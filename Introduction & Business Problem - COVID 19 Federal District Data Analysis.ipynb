{
 "cells": [
  {
   "cell_type": "markdown",
   "metadata": {},
   "source": [
    "# The Battle of the Neighborhoods - Week 1"
   ]
  },
  {
   "cell_type": "code",
   "execution_count": 2,
   "metadata": {},
   "outputs": [
    {
     "name": "stdout",
     "output_type": "stream",
     "text": [
      "Requirement already satisfied: beautifulsoup4 in /home/jupyterlab/conda/envs/python/lib/python3.6/site-packages (4.9.1)\n",
      "Requirement already satisfied: soupsieve>1.2 in /home/jupyterlab/conda/envs/python/lib/python3.6/site-packages (from beautifulsoup4) (2.0.1)\n",
      "Requirement already satisfied: lxml in /home/jupyterlab/conda/envs/python/lib/python3.6/site-packages (4.5.1)\n",
      "Collecting package metadata (current_repodata.json): done\n",
      "Solving environment: done\n",
      "\n",
      "# All requested packages already installed.\n",
      "\n",
      "Ready!\n"
     ]
    }
   ],
   "source": [
    "!pip install beautifulsoup4\n",
    "!pip install lxml\n",
    "import requests # library to handle requests\n",
    "import pandas as pd # library for data analsysis\n",
    "import numpy as np # library to handle data in a vectorized manner\n",
    "import random # library for random number generation\n",
    "\n",
    "from IPython.display import display_html\n",
    "import pandas as pd\n",
    "import numpy as np\n",
    "\n",
    "!conda install -c conda-forge folium=0.5.0 --yes\n",
    "\n",
    "from bs4 import BeautifulSoup\n",
    "\n",
    "\n",
    "print('Ready!')"
   ]
  },
  {
   "cell_type": "markdown",
   "metadata": {},
   "source": [
    "## 1. Introduction & Business Problem :"
   ]
  },
  {
   "cell_type": "markdown",
   "metadata": {},
   "source": [
    "### Problem Background:"
   ]
  },
  {
   "cell_type": "markdown",
   "metadata": {},
   "source": [
    "The Federal District (in portuguese 'Distrito Federal') is one of the 27 federative units in Brazil. Located in the Midwest Region, it is the smallest Brazilian federative unit and the only one that has no municipalities, being divided into 31 administrative regions, totaling an area of 5,779,999 km². In its territory, it is located in the federal capital of Brazil, Brasília, and also at the headquarters of the federal government. \n",
    "\n",
    "This region was created exclusively for the construction of the federal capital in the 1960s and today it is an important economic center, being the seventh federative unit with the largest gross domestic product (GDP) in Brazil (171.2 billion reais - 2012) and the highest GDP per capita in the country, 64,653 reais (2012). Despite this, Brasília has the highest income inequality among Brazilian capitals.\n",
    "\n",
    "This inequality added to the advent of the global pandemic of COVID 19 resulted in an alarming scenario for the population of the Federal District. Because of this, it is necessary to have a greater understanding of which regions are having the greatest problems in dealing with the pandemic and which are most affected by COVID 19 so that it is possible to make strategic decisions to support the most affected regions."
   ]
  },
  {
   "cell_type": "markdown",
   "metadata": {},
   "source": [
    "### Problem Description:"
   ]
  },
  {
   "cell_type": "markdown",
   "metadata": {},
   "source": [
    "In this context, the Federal District is divided into 33 administrative regions, with the administrative region of Brasília being the main one. Administrative regions are territorial subdivisions of the Federal District, whose physical limits, established by the government, define the jurisdiction of government action for the purpose of administrative deconcentration and coordination of public services of a local nature. This action is exercised through each regional administration.\n",
    "\n",
    "The admnistrative regions are:"
   ]
  },
  {
   "cell_type": "code",
   "execution_count": 11,
   "metadata": {},
   "outputs": [
    {
     "name": "stdout",
     "output_type": "stream",
     "text": [
      "<title>Lista de regiões administrativas do Distrito Federal por população – Wikipédia, a enciclopédia livre</title>\n"
     ]
    },
    {
     "data": {
      "text/html": [
       "<table class=\"wikitable sortable\">\n",
       "<tbody><tr>\n",
       "<th>Posição\n",
       "</th>\n",
       "<th>Região administrativa\n",
       "</th>\n",
       "<th>População\n",
       "</th></tr>\n",
       "<tr>\n",
       "<td>1</td>\n",
       "<td><img alt=\"\" class=\"thumbborder\" data-file-height=\"434\" data-file-width=\"650\" decoding=\"async\" height=\"13\" src=\"//upload.wikimedia.org/wikipedia/commons/thumb/0/08/Bandeira_de_Ceil%C3%A2ndia.png/20px-Bandeira_de_Ceil%C3%A2ndia.png\" srcset=\"//upload.wikimedia.org/wikipedia/commons/thumb/0/08/Bandeira_de_Ceil%C3%A2ndia.png/30px-Bandeira_de_Ceil%C3%A2ndia.png 1.5x, //upload.wikimedia.org/wikipedia/commons/thumb/0/08/Bandeira_de_Ceil%C3%A2ndia.png/40px-Bandeira_de_Ceil%C3%A2ndia.png 2x\" width=\"20\"/> <a href=\"/wiki/Ceil%C3%A2ndia\" title=\"Ceilândia\">Ceilândia</a></td>\n",
       "<td>489 351\n",
       "</td></tr>\n",
       "<tr>\n",
       "<td>2</td>\n",
       "<td><img alt=\"\" class=\"thumbborder\" data-file-height=\"408\" data-file-width=\"623\" decoding=\"async\" height=\"13\" src=\"//upload.wikimedia.org/wikipedia/commons/thumb/9/98/Bandeira_de_Samambaia.png/20px-Bandeira_de_Samambaia.png\" srcset=\"//upload.wikimedia.org/wikipedia/commons/thumb/9/98/Bandeira_de_Samambaia.png/30px-Bandeira_de_Samambaia.png 1.5x, //upload.wikimedia.org/wikipedia/commons/thumb/9/98/Bandeira_de_Samambaia.png/40px-Bandeira_de_Samambaia.png 2x\" width=\"20\"/> <a href=\"/wiki/Samambaia_(Distrito_Federal)\" title=\"Samambaia (Distrito Federal)\">Samambaia</a></td>\n",
       "<td>254 439\n",
       "</td></tr>\n",
       "<tr>\n",
       "<td>3</td>\n",
       "<td><img alt=\"\" class=\"thumbborder\" data-file-height=\"217\" data-file-width=\"325\" decoding=\"async\" height=\"13\" src=\"//upload.wikimedia.org/wikipedia/commons/thumb/d/dc/Bandeira_de_Taguatinga_%28DF%29.svg/20px-Bandeira_de_Taguatinga_%28DF%29.svg.png\" srcset=\"//upload.wikimedia.org/wikipedia/commons/thumb/d/dc/Bandeira_de_Taguatinga_%28DF%29.svg/30px-Bandeira_de_Taguatinga_%28DF%29.svg.png 1.5x, //upload.wikimedia.org/wikipedia/commons/thumb/d/dc/Bandeira_de_Taguatinga_%28DF%29.svg/40px-Bandeira_de_Taguatinga_%28DF%29.svg.png 2x\" width=\"20\"/> <a href=\"/wiki/Taguatinga_(Distrito_Federal)\" title=\"Taguatinga (Distrito Federal)\">Taguatinga</a></td>\n",
       "<td>222 598\n",
       "</td></tr>\n",
       "<tr>\n",
       "<td>4</td>\n",
       "<td><a class=\"image\" href=\"/wiki/Ficheiro:Flag_of_None.svg\"><img alt=\"Flag of None.svg\" class=\"thumbborder\" data-file-height=\"150\" data-file-width=\"225\" decoding=\"async\" height=\"15\" src=\"//upload.wikimedia.org/wikipedia/commons/thumb/2/2a/Flag_of_None.svg/22px-Flag_of_None.svg.png\" srcset=\"//upload.wikimedia.org/wikipedia/commons/thumb/2/2a/Flag_of_None.svg/33px-Flag_of_None.svg.png 1.5x, //upload.wikimedia.org/wikipedia/commons/thumb/2/2a/Flag_of_None.svg/44px-Flag_of_None.svg.png 2x\" width=\"22\"/></a> <a class=\"mw-redirect\" href=\"/wiki/Regi%C3%A3o_administrativa_de_Bras%C3%ADlia\" title=\"Região administrativa de Brasília\">Plano Piloto</a></td>\n",
       "<td>220 393\n",
       "</td></tr>\n",
       "<tr>\n",
       "<td>5</td>\n",
       "<td><img alt=\"\" class=\"thumbborder\" data-file-height=\"218\" data-file-width=\"324\" decoding=\"async\" height=\"13\" src=\"//upload.wikimedia.org/wikipedia/commons/thumb/a/a3/Bandeira_de_Planaltina_%28DF%29.PNG/20px-Bandeira_de_Planaltina_%28DF%29.PNG\" srcset=\"//upload.wikimedia.org/wikipedia/commons/thumb/a/a3/Bandeira_de_Planaltina_%28DF%29.PNG/30px-Bandeira_de_Planaltina_%28DF%29.PNG 1.5x, //upload.wikimedia.org/wikipedia/commons/thumb/a/a3/Bandeira_de_Planaltina_%28DF%29.PNG/40px-Bandeira_de_Planaltina_%28DF%29.PNG 2x\" width=\"20\"/> <a href=\"/wiki/Planaltina_(Distrito_Federal)\" title=\"Planaltina (Distrito Federal)\">Planaltina</a></td>\n",
       "<td>189 421\n",
       "</td></tr>\n",
       "<tr>\n",
       "<td>6</td>\n",
       "<td><a class=\"image\" href=\"/wiki/Ficheiro:Flag_of_None.svg\"><img alt=\"Flag of None.svg\" class=\"thumbborder\" data-file-height=\"150\" data-file-width=\"225\" decoding=\"async\" height=\"15\" src=\"//upload.wikimedia.org/wikipedia/commons/thumb/2/2a/Flag_of_None.svg/22px-Flag_of_None.svg.png\" srcset=\"//upload.wikimedia.org/wikipedia/commons/thumb/2/2a/Flag_of_None.svg/33px-Flag_of_None.svg.png 1.5x, //upload.wikimedia.org/wikipedia/commons/thumb/2/2a/Flag_of_None.svg/44px-Flag_of_None.svg.png 2x\" width=\"22\"/></a> <a href=\"/wiki/%C3%81guas_Claras_(Distrito_Federal)\" title=\"Águas Claras (Distrito Federal)\">Águas Claras</a></td>\n",
       "<td>148 940\n",
       "</td></tr>\n",
       "<tr>\n",
       "<td>7</td>\n",
       "<td><a class=\"image\" href=\"/wiki/Ficheiro:Flag_of_None.svg\"><img alt=\"Flag of None.svg\" class=\"thumbborder\" data-file-height=\"150\" data-file-width=\"225\" decoding=\"async\" height=\"15\" src=\"//upload.wikimedia.org/wikipedia/commons/thumb/2/2a/Flag_of_None.svg/22px-Flag_of_None.svg.png\" srcset=\"//upload.wikimedia.org/wikipedia/commons/thumb/2/2a/Flag_of_None.svg/33px-Flag_of_None.svg.png 1.5x, //upload.wikimedia.org/wikipedia/commons/thumb/2/2a/Flag_of_None.svg/44px-Flag_of_None.svg.png 2x\" width=\"22\"/></a> <a href=\"/wiki/Recanto_das_Emas\" title=\"Recanto das Emas\">Recanto das Emas</a></td>\n",
       "<td>145 304\n",
       "</td></tr>\n",
       "<tr>\n",
       "<td>8</td>\n",
       "<td><img alt=\"\" class=\"thumbborder\" data-file-height=\"218\" data-file-width=\"324\" decoding=\"async\" height=\"13\" src=\"//upload.wikimedia.org/wikipedia/commons/thumb/3/34/Bandeira_de_Gama_%28DF%29.jpg/20px-Bandeira_de_Gama_%28DF%29.jpg\" srcset=\"//upload.wikimedia.org/wikipedia/commons/thumb/3/34/Bandeira_de_Gama_%28DF%29.jpg/30px-Bandeira_de_Gama_%28DF%29.jpg 1.5x, //upload.wikimedia.org/wikipedia/commons/thumb/3/34/Bandeira_de_Gama_%28DF%29.jpg/40px-Bandeira_de_Gama_%28DF%29.jpg 2x\" width=\"20\"/> <a href=\"/wiki/Gama_(Distrito_Federal)\" title=\"Gama (Distrito Federal)\">Gama</a></td>\n",
       "<td>141 911\n",
       "</td></tr>\n",
       "<tr>\n",
       "<td>9</td>\n",
       "<td><img alt=\"\" class=\"thumbborder\" data-file-height=\"217\" data-file-width=\"325\" decoding=\"async\" height=\"13\" src=\"//upload.wikimedia.org/wikipedia/commons/thumb/6/60/Bandeira_de_Guar%C3%A1_%28DF%29.png/20px-Bandeira_de_Guar%C3%A1_%28DF%29.png\" srcset=\"//upload.wikimedia.org/wikipedia/commons/thumb/6/60/Bandeira_de_Guar%C3%A1_%28DF%29.png/30px-Bandeira_de_Guar%C3%A1_%28DF%29.png 1.5x, //upload.wikimedia.org/wikipedia/commons/thumb/6/60/Bandeira_de_Guar%C3%A1_%28DF%29.png/40px-Bandeira_de_Guar%C3%A1_%28DF%29.png 2x\" width=\"20\"/> <a href=\"/wiki/Guar%C3%A1_(Distrito_Federal)\" title=\"Guará (Distrito Federal)\">Guará</a></td>\n",
       "<td>132 685\n",
       "</td></tr>\n",
       "<tr>\n",
       "<td>10</td>\n",
       "<td><img alt=\"\" class=\"thumbborder\" data-file-height=\"423\" data-file-width=\"640\" decoding=\"async\" height=\"13\" src=\"//upload.wikimedia.org/wikipedia/commons/thumb/8/87/Bandeira_de_Santa_Maria_%28DF%29.jpg/20px-Bandeira_de_Santa_Maria_%28DF%29.jpg\" srcset=\"//upload.wikimedia.org/wikipedia/commons/thumb/8/87/Bandeira_de_Santa_Maria_%28DF%29.jpg/30px-Bandeira_de_Santa_Maria_%28DF%29.jpg 1.5x, //upload.wikimedia.org/wikipedia/commons/thumb/8/87/Bandeira_de_Santa_Maria_%28DF%29.jpg/40px-Bandeira_de_Santa_Maria_%28DF%29.jpg 2x\" width=\"20\"/> <a href=\"/wiki/Santa_Maria_(Distrito_Federal)\" title=\"Santa Maria (Distrito Federal)\">Santa Maria</a></td>\n",
       "<td>125 123\n",
       "</td></tr>\n",
       "<tr>\n",
       "<td>11</td>\n",
       "<td><img alt=\"\" class=\"thumbborder\" data-file-height=\"216\" data-file-width=\"309\" decoding=\"async\" height=\"14\" src=\"//upload.wikimedia.org/wikipedia/commons/thumb/1/13/Bandeira_de_Sobradinho_II.gif/20px-Bandeira_de_Sobradinho_II.gif\" srcset=\"//upload.wikimedia.org/wikipedia/commons/thumb/1/13/Bandeira_de_Sobradinho_II.gif/30px-Bandeira_de_Sobradinho_II.gif 1.5x, //upload.wikimedia.org/wikipedia/commons/thumb/1/13/Bandeira_de_Sobradinho_II.gif/40px-Bandeira_de_Sobradinho_II.gif 2x\" width=\"20\"/> <a href=\"/wiki/Sobradinho_II\" title=\"Sobradinho II\">Sobradinho II</a></td>\n",
       "<td>100 775\n",
       "</td></tr>\n",
       "<tr>\n",
       "<td>12</td>\n",
       "<td><img alt=\"\" class=\"thumbborder\" data-file-height=\"500\" data-file-width=\"700\" decoding=\"async\" height=\"14\" src=\"//upload.wikimedia.org/wikipedia/commons/thumb/6/66/Bandeira_de_S%C3%A3o_Sebasti%C3%A3o_%28DF%29.png/20px-Bandeira_de_S%C3%A3o_Sebasti%C3%A3o_%28DF%29.png\" srcset=\"//upload.wikimedia.org/wikipedia/commons/thumb/6/66/Bandeira_de_S%C3%A3o_Sebasti%C3%A3o_%28DF%29.png/30px-Bandeira_de_S%C3%A3o_Sebasti%C3%A3o_%28DF%29.png 1.5x, //upload.wikimedia.org/wikipedia/commons/thumb/6/66/Bandeira_de_S%C3%A3o_Sebasti%C3%A3o_%28DF%29.png/40px-Bandeira_de_S%C3%A3o_Sebasti%C3%A3o_%28DF%29.png 2x\" width=\"20\"/> <a href=\"/wiki/S%C3%A3o_Sebasti%C3%A3o_(Distrito_Federal)\" title=\"São Sebastião (Distrito Federal)\">São Sebastião</a></td>\n",
       "<td>100 161\n",
       "</td></tr>\n",
       "<tr>\n",
       "<td>13</td>\n",
       "<td><img alt=\"\" class=\"thumbborder\" data-file-height=\"180\" data-file-width=\"281\" decoding=\"async\" height=\"13\" src=\"//upload.wikimedia.org/wikipedia/commons/thumb/5/56/Bandeira_de_Vicente_Pires.jpg/20px-Bandeira_de_Vicente_Pires.jpg\" srcset=\"//upload.wikimedia.org/wikipedia/commons/thumb/5/56/Bandeira_de_Vicente_Pires.jpg/30px-Bandeira_de_Vicente_Pires.jpg 1.5x, //upload.wikimedia.org/wikipedia/commons/thumb/5/56/Bandeira_de_Vicente_Pires.jpg/40px-Bandeira_de_Vicente_Pires.jpg 2x\" width=\"20\"/> <a href=\"/wiki/Vicente_Pires\" title=\"Vicente Pires\">Vicente Pires</a></td>\n",
       "<td>72 879\n",
       "</td></tr>\n",
       "<tr>\n",
       "<td>14</td>\n",
       "<td><img alt=\"\" class=\"thumbborder\" data-file-height=\"664\" data-file-width=\"1080\" decoding=\"async\" height=\"12\" src=\"//upload.wikimedia.org/wikipedia/commons/thumb/5/56/Bandeira_de_Itapo%C3%A3.png/20px-Bandeira_de_Itapo%C3%A3.png\" srcset=\"//upload.wikimedia.org/wikipedia/commons/thumb/5/56/Bandeira_de_Itapo%C3%A3.png/30px-Bandeira_de_Itapo%C3%A3.png 1.5x, //upload.wikimedia.org/wikipedia/commons/thumb/5/56/Bandeira_de_Itapo%C3%A3.png/40px-Bandeira_de_Itapo%C3%A3.png 2x\" width=\"20\"/> <a href=\"/wiki/Itapo%C3%A3_(Distrito_Federal)\" title=\"Itapoã (Distrito Federal)\">Itapoã</a></td>\n",
       "<td>68 587\n",
       "</td></tr>\n",
       "<tr>\n",
       "<td>15</td>\n",
       "<td><img alt=\"\" class=\"thumbborder\" data-file-height=\"425\" data-file-width=\"638\" decoding=\"async\" height=\"13\" src=\"//upload.wikimedia.org/wikipedia/commons/thumb/1/17/Bandeira_de_Sobradinho_%28DF%29.svg/20px-Bandeira_de_Sobradinho_%28DF%29.svg.png\" srcset=\"//upload.wikimedia.org/wikipedia/commons/thumb/1/17/Bandeira_de_Sobradinho_%28DF%29.svg/30px-Bandeira_de_Sobradinho_%28DF%29.svg.png 1.5x, //upload.wikimedia.org/wikipedia/commons/thumb/1/17/Bandeira_de_Sobradinho_%28DF%29.svg/40px-Bandeira_de_Sobradinho_%28DF%29.svg.png 2x\" width=\"20\"/> <a href=\"/wiki/Sobradinho_(Distrito_Federal)\" title=\"Sobradinho (Distrito Federal)\">Sobradinho</a></td>\n",
       "<td>68 551\n",
       "</td></tr>\n",
       "<tr>\n",
       "<td>16</td>\n",
       "<td><a class=\"image\" href=\"/wiki/Ficheiro:Flag_of_None.svg\"><img alt=\"Flag of None.svg\" class=\"thumbborder\" data-file-height=\"150\" data-file-width=\"225\" decoding=\"async\" height=\"15\" src=\"//upload.wikimedia.org/wikipedia/commons/thumb/2/2a/Flag_of_None.svg/22px-Flag_of_None.svg.png\" srcset=\"//upload.wikimedia.org/wikipedia/commons/thumb/2/2a/Flag_of_None.svg/33px-Flag_of_None.svg.png 1.5x, //upload.wikimedia.org/wikipedia/commons/thumb/2/2a/Flag_of_None.svg/44px-Flag_of_None.svg.png 2x\" width=\"22\"/></a> <a href=\"/wiki/Sudoeste/Octogonal\" title=\"Sudoeste/Octogonal\">Sudoeste/Octogonal</a></td>\n",
       "<td>53 262\n",
       "</td></tr>\n",
       "<tr>\n",
       "<td>17</td>\n",
       "<td><img alt=\"\" class=\"thumbborder\" data-file-height=\"414\" data-file-width=\"746\" decoding=\"async\" height=\"11\" src=\"//upload.wikimedia.org/wikipedia/commons/thumb/2/21/Bandeira_de_Brazl%C3%A2ndia.jpg/20px-Bandeira_de_Brazl%C3%A2ndia.jpg\" srcset=\"//upload.wikimedia.org/wikipedia/commons/thumb/2/21/Bandeira_de_Brazl%C3%A2ndia.jpg/30px-Bandeira_de_Brazl%C3%A2ndia.jpg 1.5x, //upload.wikimedia.org/wikipedia/commons/thumb/2/21/Bandeira_de_Brazl%C3%A2ndia.jpg/40px-Bandeira_de_Brazl%C3%A2ndia.jpg 2x\" width=\"20\"/> <a href=\"/wiki/Brazl%C3%A2ndia\" title=\"Brazlândia\">Brazlândia</a></td>\n",
       "<td>52 287\n",
       "</td></tr>\n",
       "<tr>\n",
       "<td>18</td>\n",
       "<td><a class=\"image\" href=\"/wiki/Ficheiro:Flag_of_None.svg\"><img alt=\"Flag of None.svg\" class=\"thumbborder\" data-file-height=\"150\" data-file-width=\"225\" decoding=\"async\" height=\"15\" src=\"//upload.wikimedia.org/wikipedia/commons/thumb/2/2a/Flag_of_None.svg/22px-Flag_of_None.svg.png\" srcset=\"//upload.wikimedia.org/wikipedia/commons/thumb/2/2a/Flag_of_None.svg/33px-Flag_of_None.svg.png 1.5x, //upload.wikimedia.org/wikipedia/commons/thumb/2/2a/Flag_of_None.svg/44px-Flag_of_None.svg.png 2x\" width=\"22\"/></a> <a href=\"/wiki/Riacho_Fundo_II\" title=\"Riacho Fundo II\">Riacho Fundo II</a></td>\n",
       "<td>51 709\n",
       "</td></tr>\n",
       "<tr>\n",
       "<td>19</td>\n",
       "<td><img alt=\"\" class=\"thumbborder\" data-file-height=\"346\" data-file-width=\"512\" decoding=\"async\" height=\"14\" src=\"//upload.wikimedia.org/wikipedia/commons/thumb/1/1d/Bandeira_de_Parano%C3%A1.jpg/20px-Bandeira_de_Parano%C3%A1.jpg\" srcset=\"//upload.wikimedia.org/wikipedia/commons/thumb/1/1d/Bandeira_de_Parano%C3%A1.jpg/30px-Bandeira_de_Parano%C3%A1.jpg 1.5x, //upload.wikimedia.org/wikipedia/commons/thumb/1/1d/Bandeira_de_Parano%C3%A1.jpg/40px-Bandeira_de_Parano%C3%A1.jpg 2x\" width=\"20\"/> <a href=\"/wiki/Parano%C3%A1\" title=\"Paranoá\">Paranoá</a></td>\n",
       "<td>48 020\n",
       "</td></tr>\n",
       "<tr>\n",
       "<td>20</td>\n",
       "<td><img alt=\"\" class=\"thumbborder\" data-file-height=\"309\" data-file-width=\"436\" decoding=\"async\" height=\"14\" src=\"//upload.wikimedia.org/wikipedia/commons/thumb/c/cb/Bandeira_de_Riacho_Fundo.jpg/20px-Bandeira_de_Riacho_Fundo.jpg\" srcset=\"//upload.wikimedia.org/wikipedia/commons/thumb/c/cb/Bandeira_de_Riacho_Fundo.jpg/30px-Bandeira_de_Riacho_Fundo.jpg 1.5x, //upload.wikimedia.org/wikipedia/commons/thumb/c/cb/Bandeira_de_Riacho_Fundo.jpg/40px-Bandeira_de_Riacho_Fundo.jpg 2x\" width=\"20\"/> <a href=\"/wiki/Riacho_Fundo\" title=\"Riacho Fundo\">Riacho Fundo</a></td>\n",
       "<td>40 098\n",
       "</td></tr>\n",
       "<tr>\n",
       "<td>21</td>\n",
       "<td><a class=\"image\" href=\"/wiki/Ficheiro:Flag_of_None.svg\"><img alt=\"Flag of None.svg\" class=\"thumbborder\" data-file-height=\"150\" data-file-width=\"225\" decoding=\"async\" height=\"15\" src=\"//upload.wikimedia.org/wikipedia/commons/thumb/2/2a/Flag_of_None.svg/22px-Flag_of_None.svg.png\" srcset=\"//upload.wikimedia.org/wikipedia/commons/thumb/2/2a/Flag_of_None.svg/33px-Flag_of_None.svg.png 1.5x, //upload.wikimedia.org/wikipedia/commons/thumb/2/2a/Flag_of_None.svg/44px-Flag_of_None.svg.png 2x\" width=\"22\"/></a> <a href=\"/wiki/Setor_Complementar_de_Ind%C3%BAstria_e_Abastecimento\" title=\"Setor Complementar de Indústria e Abastecimento\">SCIA</a></td>\n",
       "<td>39 015\n",
       "</td></tr>\n",
       "<tr>\n",
       "<td>22</td>\n",
       "<td><a class=\"image\" href=\"/wiki/Ficheiro:Flag_of_None.svg\"><img alt=\"Flag of None.svg\" class=\"thumbborder\" data-file-height=\"150\" data-file-width=\"225\" decoding=\"async\" height=\"15\" src=\"//upload.wikimedia.org/wikipedia/commons/thumb/2/2a/Flag_of_None.svg/22px-Flag_of_None.svg.png\" srcset=\"//upload.wikimedia.org/wikipedia/commons/thumb/2/2a/Flag_of_None.svg/33px-Flag_of_None.svg.png 1.5x, //upload.wikimedia.org/wikipedia/commons/thumb/2/2a/Flag_of_None.svg/44px-Flag_of_None.svg.png 2x\" width=\"22\"/></a> <a href=\"/wiki/Lago_Norte\" title=\"Lago Norte\">Lago Norte</a></td>\n",
       "<td>37 455\n",
       "</td></tr>\n",
       "<tr>\n",
       "<td>23</td>\n",
       "<td><img alt=\"\" class=\"thumbborder\" data-file-height=\"139\" data-file-width=\"200\" decoding=\"async\" height=\"14\" src=\"//upload.wikimedia.org/wikipedia/commons/thumb/d/d2/Bandeira_de_Cruzeiro_%28DF%29.jpg/20px-Bandeira_de_Cruzeiro_%28DF%29.jpg\" srcset=\"//upload.wikimedia.org/wikipedia/commons/thumb/d/d2/Bandeira_de_Cruzeiro_%28DF%29.jpg/30px-Bandeira_de_Cruzeiro_%28DF%29.jpg 1.5x, //upload.wikimedia.org/wikipedia/commons/thumb/d/d2/Bandeira_de_Cruzeiro_%28DF%29.jpg/40px-Bandeira_de_Cruzeiro_%28DF%29.jpg 2x\" width=\"20\"/> <a href=\"/wiki/Cruzeiro_(Distrito_Federal)\" title=\"Cruzeiro (Distrito Federal)\">Cruzeiro</a></td>\n",
       "<td>33 539\n",
       "</td></tr>\n",
       "<tr>\n",
       "<td>24</td>\n",
       "<td><a class=\"image\" href=\"/wiki/Ficheiro:Flag_of_None.svg\"><img alt=\"Flag of None.svg\" class=\"thumbborder\" data-file-height=\"150\" data-file-width=\"225\" decoding=\"async\" height=\"15\" src=\"//upload.wikimedia.org/wikipedia/commons/thumb/2/2a/Flag_of_None.svg/22px-Flag_of_None.svg.png\" srcset=\"//upload.wikimedia.org/wikipedia/commons/thumb/2/2a/Flag_of_None.svg/33px-Flag_of_None.svg.png 1.5x, //upload.wikimedia.org/wikipedia/commons/thumb/2/2a/Flag_of_None.svg/44px-Flag_of_None.svg.png 2x\" width=\"22\"/></a> <a href=\"/wiki/Lago_Sul\" title=\"Lago Sul\">Lago Sul</a></td>\n",
       "<td>29 346\n",
       "</td></tr>\n",
       "<tr>\n",
       "<td>25</td>\n",
       "<td><img alt=\"\" class=\"thumbborder\" data-file-height=\"218\" data-file-width=\"324\" decoding=\"async\" height=\"13\" src=\"//upload.wikimedia.org/wikipedia/commons/thumb/1/14/Bandeira_de_Jardim_Bot%C3%A2nico.png/20px-Bandeira_de_Jardim_Bot%C3%A2nico.png\" srcset=\"//upload.wikimedia.org/wikipedia/commons/thumb/1/14/Bandeira_de_Jardim_Bot%C3%A2nico.png/30px-Bandeira_de_Jardim_Bot%C3%A2nico.png 1.5x, //upload.wikimedia.org/wikipedia/commons/thumb/1/14/Bandeira_de_Jardim_Bot%C3%A2nico.png/40px-Bandeira_de_Jardim_Bot%C3%A2nico.png 2x\" width=\"20\"/> <a href=\"/wiki/Jardim_Bot%C3%A2nico_(Distrito_Federal)\" title=\"Jardim Botânico (Distrito Federal)\">Jardim Botânico</a></td>\n",
       "<td>27 364\n",
       "</td></tr>\n",
       "<tr>\n",
       "<td>26</td>\n",
       "<td><img alt=\"\" class=\"thumbborder\" data-file-height=\"1545\" data-file-width=\"2327\" decoding=\"async\" height=\"13\" src=\"//upload.wikimedia.org/wikipedia/commons/thumb/3/3c/Bandeira_de_N%C3%BAcleo_Bandeirante.jpg/20px-Bandeira_de_N%C3%BAcleo_Bandeirante.jpg\" srcset=\"//upload.wikimedia.org/wikipedia/commons/thumb/3/3c/Bandeira_de_N%C3%BAcleo_Bandeirante.jpg/30px-Bandeira_de_N%C3%BAcleo_Bandeirante.jpg 1.5x, //upload.wikimedia.org/wikipedia/commons/thumb/3/3c/Bandeira_de_N%C3%BAcleo_Bandeirante.jpg/40px-Bandeira_de_N%C3%BAcleo_Bandeirante.jpg 2x\" width=\"20\"/> <a href=\"/wiki/N%C3%BAcleo_Bandeirante\" title=\"Núcleo Bandeirante\">Núcleo Bandeirante</a></td>\n",
       "<td>25 072\n",
       "</td></tr>\n",
       "<tr>\n",
       "<td>27</td>\n",
       "<td><img alt=\"\" class=\"thumbborder\" data-file-height=\"218\" data-file-width=\"324\" decoding=\"async\" height=\"13\" src=\"//upload.wikimedia.org/wikipedia/commons/thumb/6/63/Bandeira_de_Park_Way.png/20px-Bandeira_de_Park_Way.png\" srcset=\"//upload.wikimedia.org/wikipedia/commons/thumb/6/63/Bandeira_de_Park_Way.png/30px-Bandeira_de_Park_Way.png 1.5x, //upload.wikimedia.org/wikipedia/commons/thumb/6/63/Bandeira_de_Park_Way.png/40px-Bandeira_de_Park_Way.png 2x\" width=\"20\"/> <a href=\"/wiki/Park_Way\" title=\"Park Way\">Park Way</a></td>\n",
       "<td>19 824\n",
       "</td></tr>\n",
       "<tr>\n",
       "<td>28</td>\n",
       "<td><a class=\"image\" href=\"/wiki/Ficheiro:Flag_of_None.svg\"><img alt=\"Flag of None.svg\" class=\"thumbborder\" data-file-height=\"150\" data-file-width=\"225\" decoding=\"async\" height=\"15\" src=\"//upload.wikimedia.org/wikipedia/commons/thumb/2/2a/Flag_of_None.svg/22px-Flag_of_None.svg.png\" srcset=\"//upload.wikimedia.org/wikipedia/commons/thumb/2/2a/Flag_of_None.svg/33px-Flag_of_None.svg.png 1.5x, //upload.wikimedia.org/wikipedia/commons/thumb/2/2a/Flag_of_None.svg/44px-Flag_of_None.svg.png 2x\" width=\"22\"/></a> <a href=\"/wiki/Candangol%C3%A2ndia\" title=\"Candangolândia\">Candangolândia</a></td>\n",
       "<td>16 848\n",
       "</td></tr>\n",
       "<tr>\n",
       "<td>29</td>\n",
       "<td><a class=\"image\" href=\"/wiki/Ficheiro:Flag_of_None.svg\"><img alt=\"Flag of None.svg\" class=\"thumbborder\" data-file-height=\"150\" data-file-width=\"225\" decoding=\"async\" height=\"15\" src=\"//upload.wikimedia.org/wikipedia/commons/thumb/2/2a/Flag_of_None.svg/22px-Flag_of_None.svg.png\" srcset=\"//upload.wikimedia.org/wikipedia/commons/thumb/2/2a/Flag_of_None.svg/33px-Flag_of_None.svg.png 1.5x, //upload.wikimedia.org/wikipedia/commons/thumb/2/2a/Flag_of_None.svg/44px-Flag_of_None.svg.png 2x\" width=\"22\"/></a> <a href=\"/wiki/Varj%C3%A3o_(Distrito_Federal)\" title=\"Varjão (Distrito Federal)\">Varjão</a></td>\n",
       "<td>9 215\n",
       "</td></tr>\n",
       "<tr>\n",
       "<td>30</td>\n",
       "<td><a class=\"image\" href=\"/wiki/Ficheiro:Flag_of_None.svg\"><img alt=\"Flag of None.svg\" class=\"thumbborder\" data-file-height=\"150\" data-file-width=\"225\" decoding=\"async\" height=\"15\" src=\"//upload.wikimedia.org/wikipedia/commons/thumb/2/2a/Flag_of_None.svg/22px-Flag_of_None.svg.png\" srcset=\"//upload.wikimedia.org/wikipedia/commons/thumb/2/2a/Flag_of_None.svg/33px-Flag_of_None.svg.png 1.5x, //upload.wikimedia.org/wikipedia/commons/thumb/2/2a/Flag_of_None.svg/44px-Flag_of_None.svg.png 2x\" width=\"22\"/></a> <a href=\"/wiki/Fercal\" title=\"Fercal\">Fercal</a></td>\n",
       "<td>8 746\n",
       "</td></tr>\n",
       "<tr>\n",
       "<td>31</td>\n",
       "<td><a class=\"image\" href=\"/wiki/Ficheiro:Flag_of_None.svg\"><img alt=\"Flag of None.svg\" class=\"thumbborder\" data-file-height=\"150\" data-file-width=\"225\" decoding=\"async\" height=\"15\" src=\"//upload.wikimedia.org/wikipedia/commons/thumb/2/2a/Flag_of_None.svg/22px-Flag_of_None.svg.png\" srcset=\"//upload.wikimedia.org/wikipedia/commons/thumb/2/2a/Flag_of_None.svg/33px-Flag_of_None.svg.png 1.5x, //upload.wikimedia.org/wikipedia/commons/thumb/2/2a/Flag_of_None.svg/44px-Flag_of_None.svg.png 2x\" width=\"22\"/></a> <a href=\"/wiki/Setor_de_Ind%C3%BAstria_e_Abastecimento\" title=\"Setor de Indústria e Abastecimento\">SIA</a></td>\n",
       "<td>1 988\n",
       "</td></tr>\n",
       "</tbody></table>"
      ]
     },
     "metadata": {},
     "output_type": "display_data"
    }
   ],
   "source": [
    "source = requests.get('https://pt.wikipedia.org/wiki/Lista_de_regi%C3%B5es_administrativas_do_Distrito_Federal_por_popula%C3%A7%C3%A3o').text\n",
    "soup=BeautifulSoup(source,'lxml')\n",
    "print(soup.title)\n",
    "from IPython.display import display_html\n",
    "tab = str(soup.table)\n",
    "display_html(tab,raw=True)\n",
    "\n",
    "# The respective columns names in EN are Position, RA and Population"
   ]
  },
  {
   "cell_type": "markdown",
   "metadata": {},
   "source": [
    "From these population data, it is necessary to gain an understanding of how these populations have been affected by COVID 19. To obtain a better awareness of the impact of COVID 19, it is necessary to look to investigate informations such as:\n",
    "\n",
    "**1. Age Group of the infected by COVID 19**\n",
    "\n",
    "**2. Sex Group of the infected by COVID 19**\n",
    "\n",
    "**3. Health condition of the infected by COVID 19**\n",
    "\n",
    "**4. Distribution of the number of infected by administrative region**\n",
    "\n",
    "**5. Distribution of the number of deaths by administrative region**\n",
    "\n",
    "**6. The estimated development of COVID-19 per region**"
   ]
  },
  {
   "cell_type": "markdown",
   "metadata": {},
   "source": [
    "From the analysis of these data it is necessary to understand which administrative regions should receive more focus on preventive measures."
   ]
  },
  {
   "cell_type": "code",
   "execution_count": null,
   "metadata": {},
   "outputs": [],
   "source": []
  }
 ],
 "metadata": {
  "kernelspec": {
   "display_name": "Python",
   "language": "python",
   "name": "conda-env-python-py"
  },
  "language_info": {
   "codemirror_mode": {
    "name": "ipython",
    "version": 3
   },
   "file_extension": ".py",
   "mimetype": "text/x-python",
   "name": "python",
   "nbconvert_exporter": "python",
   "pygments_lexer": "ipython3",
   "version": "3.6.10"
  }
 },
 "nbformat": 4,
 "nbformat_minor": 4
}
